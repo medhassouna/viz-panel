{
 "cells": [
  {
   "cell_type": "code",
   "execution_count": null,
   "metadata": {},
   "outputs": [],
   "source": [
    "import json\n",
    "import panel as pn\n",
    "\n",
    "pn.extension()"
   ]
  },
  {
   "cell_type": "markdown",
   "metadata": {},
   "source": [
    "The ``JSON`` pane allows rendering arbitrary JSON datastructures in a panel. It renders strings containing valid HTML as well as objects with a ``_repr_html_`` method and may define custom CSS styles.\n",
    "\n",
    "#### Parameters:\n",
    "\n",
    "For layout and styling related parameters see the [customization user guide](../../user_guide/Customization.ipynb).\n",
    "\n",
    "* **``depth``** (int): Depth to which the JSON structure is expanded on initialization (`depth=-1` indicates full expansion)\n",
    "* **``hover_preview``** (bool): Whether to enable hover preview for collapsed nodes \n",
    "* **``object``** (str or object): JSON string or JSON serializable object\n",
    "* **``theme``** (string): The color scheme, one of 'light' or 'dark'\n",
    "* **``style``** (dict): Dictionary specifying CSS styles\n",
    "\n",
    "___"
   ]
  },
  {
   "cell_type": "markdown",
   "metadata": {},
   "source": [
    "The `JSON` pane can be used to render a tree view of arbitrary JSON objects which may be defined as a string or a JSON-serializable Python object."
   ]
  },
  {
   "cell_type": "code",
   "execution_count": null,
   "metadata": {},
   "outputs": [],
   "source": [
    "json_obj = {\n",
    "    'boolean': False,\n",
    "    'dict': {'a': 1, 'b': 2, 'c': 3},\n",
    "    'int': 1,\n",
    "    'float': 3.1,\n",
    "    'list': [1, 2, 3],\n",
    "    'null': None,\n",
    "    'string': 'A string',\n",
    "}\n",
    "\n",
    "pn.pane.JSON(json_obj, height=300, width=500)"
   ]
  },
  {
   "cell_type": "markdown",
   "metadata": {},
   "source": [
    "The `JSON` pane supports a number of options to control the theme, enable and disable a `hover_preview` and control the `depth` to which the tree is expanded. Below we have linkeddemonstrates how some of these options work interactively:"
   ]
  },
  {
   "cell_type": "code",
   "execution_count": null,
   "metadata": {},
   "outputs": [],
   "source": [
    "json_str = \"\"\"\n",
    "{\n",
    "    \"nested\": {\n",
    "      \"a\": 1,\n",
    "      \"b\": 2\n",
    "    },\n",
    "    \"list\": [1, 2, 3]\n",
    "}\n",
    "\"\"\"\n",
    "\n",
    "json_pane = pn.pane.JSON(width=500)\n",
    "\n",
    "text_area = pn.widgets.TextAreaInput(value=json_str, width=400, height=200)\n",
    "text_area.jslink(json_pane, value='object')\n",
    "responsive = pn.widgets.Select(name='Responsive', options=['fixed', 'stretch_width'])\n",
    "responsive.jslink(json_pane, value='sizing_mode')\n",
    "depth = pn.widgets.IntSlider(name='Depth', start=0, end=3, value=1)\n",
    "depth.jslink(json_pane, value='depth')\n",
    "hover = pn.widgets.Toggle(name='Hover')\n",
    "hover.jslink(json_pane, value='hover_preview')\n",
    "theme = pn.widgets.Select(name='Theme', options=['dark', 'light'])\n",
    "theme.jslink(json_pane, value='theme')\n",
    "\n",
    "pn.Row(\n",
    "    pn.Column(responsive, depth, hover, theme),\n",
    "    text_area,\n",
    "    json_pane,\n",
    "    sizing_mode='stretch_width'\n",
    ")"
   ]
  }
 ],
 "metadata": {
  "kernelspec": {
   "display_name": "Python 3",
   "language": "python",
   "name": "python3"
  },
  "language_info": {
   "codemirror_mode": {
    "name": "ipython",
    "version": 3
   },
   "file_extension": ".py",
   "mimetype": "text/x-python",
   "name": "python",
   "nbconvert_exporter": "python",
   "pygments_lexer": "ipython3",
   "version": "3.7.5"
  }
 },
 "nbformat": 4,
 "nbformat_minor": 4
}
